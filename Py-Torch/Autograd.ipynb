{
  "cells": [
    {
      "cell_type": "code",
      "execution_count": null,
      "metadata": {
        "id": "O3YiuyGM8csX"
      },
      "outputs": [],
      "source": [
        "import torch\n",
        "import torch.nn as nn\n",
        "\n",
        "import matplotlib.pyplot as plt\n",
        "import math"
      ]
    },
    {
      "cell_type": "markdown",
      "metadata": {
        "id": "oBO45CaG8csX"
      },
      "source": [
        "Let's create an input tensor which has evenly spaced values on the interval $[0, 2{\\pi}]$, and specify `requires_grad=True`. (Like most functions that create tensors, `torch.linspace()` accepts an optional `requires_grad` option.)\n",
        "\n",
        "Setting `required_grad=True` we are telling PyTorch that we want to compute gradients with respect to that tensor during the backward pass and it signals\n",
        "PyTorch that all the `operations` on this tensor should be tracked.\n",
        "\n",
        "This means that in every computation that follows, autograd will be accumulating the history of the computation in the output tensors of that computation."
      ]
    },
    {
      "cell_type": "code",
      "execution_count": null,
      "metadata": {
        "colab": {
          "base_uri": "https://localhost:8080/"
        },
        "id": "1yk1FWYd8csY",
        "outputId": "0ed3ffc8-8eae-40e7-c3a3-3e75e05db48c"
      },
      "outputs": [
        {
          "output_type": "stream",
          "name": "stdout",
          "text": [
            "tensor([0.0000, 0.2618, 0.5236, 0.7854, 1.0472, 1.3090, 1.5708, 1.8326, 2.0944,\n",
            "        2.3562, 2.6180, 2.8798, 3.1416, 3.4034, 3.6652, 3.9270, 4.1888, 4.4506,\n",
            "        4.7124, 4.9742, 5.2360, 5.4978, 5.7596, 6.0214, 6.2832],\n",
            "       requires_grad=True)\n"
          ]
        }
      ],
      "source": [
        "a = torch.linspace(0., 2. * math.pi, steps=25, requires_grad=True)\n",
        "print(a)"
      ]
    },
    {
      "cell_type": "code",
      "source": [
        "# detach() is useful when you want to perform operations on a tensor but you do not want those operations to be part of the gradient computation.\n",
        "a.detach()"
      ],
      "metadata": {
        "colab": {
          "base_uri": "https://localhost:8080/"
        },
        "id": "qP4w3zVJMhrw",
        "outputId": "9aad202f-f952-467e-80d8-5bb76a46aafd"
      },
      "execution_count": null,
      "outputs": [
        {
          "output_type": "execute_result",
          "data": {
            "text/plain": [
              "tensor([0.0000, 0.2618, 0.5236, 0.7854, 1.0472, 1.3090, 1.5708, 1.8326, 2.0944,\n",
              "        2.3562, 2.6180, 2.8798, 3.1416, 3.4034, 3.6652, 3.9270, 4.1888, 4.4506,\n",
              "        4.7124, 4.9742, 5.2360, 5.4978, 5.7596, 6.0214, 6.2832])"
            ]
          },
          "metadata": {},
          "execution_count": 26
        }
      ]
    },
    {
      "cell_type": "code",
      "source": [
        "b = torch.sin(a)\n",
        "print(b)"
      ],
      "metadata": {
        "colab": {
          "base_uri": "https://localhost:8080/"
        },
        "id": "NO-hcTqEIhlG",
        "outputId": "2151dee3-739f-4a07-e9ea-0351242014a1"
      },
      "execution_count": null,
      "outputs": [
        {
          "output_type": "stream",
          "name": "stdout",
          "text": [
            "tensor([ 0.0000e+00,  2.5882e-01,  5.0000e-01,  7.0711e-01,  8.6603e-01,\n",
            "         9.6593e-01,  1.0000e+00,  9.6593e-01,  8.6603e-01,  7.0711e-01,\n",
            "         5.0000e-01,  2.5882e-01, -8.7423e-08, -2.5882e-01, -5.0000e-01,\n",
            "        -7.0711e-01, -8.6603e-01, -9.6593e-01, -1.0000e+00, -9.6593e-01,\n",
            "        -8.6603e-01, -7.0711e-01, -5.0000e-01, -2.5882e-01,  1.7485e-07],\n",
            "       grad_fn=<SinBackward0>)\n"
          ]
        }
      ]
    },
    {
      "cell_type": "markdown",
      "metadata": {
        "id": "5yzw6jzw8csY"
      },
      "source": [
        "Let's perform a computation, and plot its output in terms of its inputs:"
      ]
    },
    {
      "cell_type": "code",
      "execution_count": null,
      "metadata": {
        "colab": {
          "base_uri": "https://localhost:8080/",
          "height": 447
        },
        "id": "q8FCZh8z8csY",
        "outputId": "c2ed0d7f-609d-4794-a882-7d7722fe9ab2"
      },
      "outputs": [
        {
          "output_type": "execute_result",
          "data": {
            "text/plain": [
              "[<matplotlib.lines.Line2D at 0x7a9cdee81de0>]"
            ]
          },
          "metadata": {},
          "execution_count": 29
        },
        {
          "output_type": "display_data",
          "data": {
            "text/plain": [
              "<Figure size 640x480 with 1 Axes>"
            ],
            "image/png": "[encoded data removed]"
          },
          "metadata": {}
        }
      ],
      "source": [
        "# Performing a sin operation on to our tensor.\n",
        "b = torch.sin(a)\n",
        "plt.plot(a.detach(), b.detach())"
      ]
    },
    {
      "cell_type": "markdown",
      "metadata": {
        "id": "ySkAd4lI8csY"
      },
      "source": [
        "Let's have a closer look at the tensor `b`. When we print it, we see an indicator that it is tracking its computation history:"
      ]
    },
    {
      "cell_type": "code",
      "execution_count": null,
      "metadata": {
        "colab": {
          "base_uri": "https://localhost:8080/"
        },
        "id": "7M7fdzrc8csY",
        "outputId": "83b6099a-35af-4b42-c939-9e20b5c9b643"
      },
      "outputs": [
        {
          "output_type": "stream",
          "name": "stdout",
          "text": [
            "tensor([ 0.0000e+00,  2.5882e-01,  5.0000e-01,  7.0711e-01,  8.6603e-01,\n",
            "         9.6593e-01,  1.0000e+00,  9.6593e-01,  8.6603e-01,  7.0711e-01,\n",
            "         5.0000e-01,  2.5882e-01, -8.7423e-08, -2.5882e-01, -5.0000e-01,\n",
            "        -7.0711e-01, -8.6603e-01, -9.6593e-01, -1.0000e+00, -9.6593e-01,\n",
            "        -8.6603e-01, -7.0711e-01, -5.0000e-01, -2.5882e-01,  1.7485e-07],\n",
            "       grad_fn=<SinBackward0>)\n"
          ]
        }
      ],
      "source": [
        "print(b)"
      ]
    },
    {
      "cell_type": "markdown",
      "metadata": {
        "id": "Kg3Csjt78csZ"
      },
      "source": [
        "This `grad_fn` gives us a hint that when we execute the backpropagation step and compute gradients, we'll need to compute the derivative of $sin(x)$ for all this tensor's inputs.\n",
        "\n",
        "Let's perform some more computations:"
      ]
    },
    {
      "cell_type": "code",
      "execution_count": null,
      "metadata": {
        "colab": {
          "base_uri": "https://localhost:8080/"
        },
        "id": "ENWk8oZ98csZ",
        "outputId": "7ff1c9e5-f52f-4a0e-aaf2-37065d56629a"
      },
      "outputs": [
        {
          "output_type": "stream",
          "name": "stdout",
          "text": [
            "tensor([ 0.0000e+00,  5.1764e-01,  1.0000e+00,  1.4142e+00,  1.7321e+00,\n",
            "         1.9319e+00,  2.0000e+00,  1.9319e+00,  1.7321e+00,  1.4142e+00,\n",
            "         1.0000e+00,  5.1764e-01, -1.7485e-07, -5.1764e-01, -1.0000e+00,\n",
            "        -1.4142e+00, -1.7321e+00, -1.9319e+00, -2.0000e+00, -1.9319e+00,\n",
            "        -1.7321e+00, -1.4142e+00, -1.0000e+00, -5.1764e-01,  3.4969e-07],\n",
            "       grad_fn=<MulBackward0>)\n",
            "tensor([ 1.0000e+00,  1.5176e+00,  2.0000e+00,  2.4142e+00,  2.7321e+00,\n",
            "         2.9319e+00,  3.0000e+00,  2.9319e+00,  2.7321e+00,  2.4142e+00,\n",
            "         2.0000e+00,  1.5176e+00,  1.0000e+00,  4.8236e-01, -3.5763e-07,\n",
            "        -4.1421e-01, -7.3205e-01, -9.3185e-01, -1.0000e+00, -9.3185e-01,\n",
            "        -7.3205e-01, -4.1421e-01,  4.7684e-07,  4.8236e-01,  1.0000e+00],\n",
            "       grad_fn=<AddBackward0>)\n"
          ]
        }
      ],
      "source": [
        "# Performing Multiplication Operation\n",
        "c = 2 * b #sin(x)\n",
        "print(c)\n",
        "\n",
        "# Performing Addition Operation\n",
        "d = c + 1 #                                2 sin(x) + 1\n",
        "print(d)"
      ]
    },
    {
      "cell_type": "code",
      "source": [],
      "metadata": {
        "id": "t2s8KljAi2Rh"
      },
      "execution_count": null,
      "outputs": []
    },
    {
      "cell_type": "markdown",
      "metadata": {
        "id": "OOwSTQLe8csZ"
      },
      "source": [
        "Finally, we compute a single-element output.Since when you call `.backward()` on a tensor with `no arguments`, it expects the calling tensor to contain only a single element, as is the case when computing a `loss function`."
      ]
    },
    {
      "cell_type": "code",
      "execution_count": null,
      "metadata": {
        "colab": {
          "base_uri": "https://localhost:8080/"
        },
        "id": "hgX1ENw38csZ",
        "outputId": "dbcf9f18-ee09-46f4-8995-82d14e68fa91"
      },
      "outputs": [
        {
          "output_type": "stream",
          "name": "stdout",
          "text": [
            "tensor(25., grad_fn=<SumBackward0>)\n"
          ]
        }
      ],
      "source": [
        "out = d.sum()\n",
        "print(out)"
      ]
    },
    {
      "cell_type": "markdown",
      "metadata": {
        "id": "CXPhVabM8csZ"
      },
      "source": [
        "Each `grad_fn` stored with our tensors allows us to walk the computation all the way back to its inputs with its `next_functions` property."
      ]
    },
    {
      "cell_type": "code",
      "execution_count": null,
      "metadata": {
        "colab": {
          "base_uri": "https://localhost:8080/"
        },
        "id": "GfmGPRdA8csZ",
        "outputId": "1bc0141e-7ea4-4344-f858-f86c9d9acae9"
      },
      "outputs": [
        {
          "output_type": "stream",
          "name": "stdout",
          "text": [
            "d:\n",
            "<AddBackward0 object at 0x7a9cf900be80>\n",
            "1\n",
            "((<MulBackward0 object at 0x7a9cf8ff0160>, 0), (None, 0))\n",
            "2\n",
            "((<SinBackward0 object at 0x7a9cf8ff0160>, 0), (None, 0))\n",
            "3\n",
            "((<AccumulateGrad object at 0x7a9cf8ff1e10>, 0),)\n",
            "4\n",
            "()\n",
            "\n",
            "c:\n",
            "<MulBackward0 object at 0x7a9cf8ff1210>\n",
            "\n",
            "b:\n",
            "<SinBackward0 object at 0x7a9cf8ff1210>\n",
            "\n",
            "a:\n",
            "None\n"
          ]
        }
      ],
      "source": [
        "print('d:')\n",
        "print(d.grad_fn)\n",
        "print(\"1\")\n",
        "print(d.grad_fn.next_functions)\n",
        "print(\"2\")\n",
        "print(d.grad_fn.next_functions[0][0].next_functions)\n",
        "print(\"3\")\n",
        "print(d.grad_fn.next_functions[0][0].next_functions[0][0].next_functions)\n",
        "print(\"4\")\n",
        "print(d.grad_fn.next_functions[0][0].next_functions[0][0].next_functions[0][0].next_functions)\n",
        "print('\\nc:')\n",
        "print(c.grad_fn)\n",
        "print('\\nb:')\n",
        "print(b.grad_fn)\n",
        "print('\\na:')\n",
        "print(a.grad_fn)"
      ]
    },
    {
      "cell_type": "markdown",
      "metadata": {
        "id": "K8e_g4SO8csa"
      },
      "source": [
        "With everything in place, let's checkout how do we get derivatives out?\n",
        "\n",
        "We call the `backward()` method on the output, and then check the input's `grad` property to inspect the gradients:"
      ]
    },
    {
      "cell_type": "code",
      "execution_count": null,
      "metadata": {
        "colab": {
          "base_uri": "https://localhost:8080/",
          "height": 534
        },
        "id": "753kj9e88csa",
        "outputId": "7ac84eec-cc70-43e8-e8e5-774bce6250be"
      },
      "outputs": [
        {
          "output_type": "stream",
          "name": "stdout",
          "text": [
            "tensor([ 2.0000e+00,  1.9319e+00,  1.7321e+00,  1.4142e+00,  1.0000e+00,\n",
            "         5.1764e-01, -8.7423e-08, -5.1764e-01, -1.0000e+00, -1.4142e+00,\n",
            "        -1.7321e+00, -1.9319e+00, -2.0000e+00, -1.9319e+00, -1.7321e+00,\n",
            "        -1.4142e+00, -1.0000e+00, -5.1764e-01,  2.3850e-08,  5.1764e-01,\n",
            "         1.0000e+00,  1.4142e+00,  1.7321e+00,  1.9319e+00,  2.0000e+00])\n"
          ]
        },
        {
          "output_type": "execute_result",
          "data": {
            "text/plain": [
              "[<matplotlib.lines.Line2D at 0x7a9cf6e24ca0>]"
            ]
          },
          "metadata": {},
          "execution_count": 9
        },
        {
          "output_type": "display_data",
          "data": {
            "text/plain": [
              "<Figure size 640x480 with 1 Axes>"
            ],
            "image/png": "[encoded data removed]"
          },
          "metadata": {}
        }
      ],
      "source": [
        "out.backward()\n",
        "print(a.grad)\n",
        "plt.plot(a.detach(), a.grad.detach())"
      ]
    },
    {
      "cell_type": "markdown",
      "metadata": {
        "id": "XqNW8Jhp8csa"
      },
      "source": [
        "## Autograd in Neural Network Training\n",
        "\n",
        "Let's see how does autograd is used for its intended purpose.\n",
        "\n",
        "Let's define a small model and examine how it changes after a single training batch."
      ]
    },
    {
      "cell_type": "code",
      "execution_count": null,
      "metadata": {
        "id": "ivdvnJ138csa"
      },
      "outputs": [],
      "source": [
        "BATCH_SIZE = 16\n",
        "DIM_IN = 100\n",
        "HIDDEN_SIZE = 100\n",
        "DIM_OUT = 10"
      ]
    },
    {
      "cell_type": "code",
      "source": [
        "# Sample Input and Output for our Model\n",
        "\n",
        "torch.manual_seed(42)\n",
        "X = torch.randn(BATCH_SIZE, DIM_IN, requires_grad=False)\n",
        "Y = torch.randn(BATCH_SIZE, DIM_OUT, requires_grad=False)"
      ],
      "metadata": {
        "id": "yEstzlNQWKgr"
      },
      "execution_count": null,
      "outputs": []
    },
    {
      "cell_type": "code",
      "source": [
        "# Let's see how our data looks like\n",
        "print(X.shape)\n",
        "print(Y.shape)"
      ],
      "metadata": {
        "colab": {
          "base_uri": "https://localhost:8080/"
        },
        "id": "eMdPFtJ4WZZl",
        "outputId": "cb72be7b-0c2b-4e25-aa49-811d1dc17bc6"
      },
      "execution_count": null,
      "outputs": [
        {
          "output_type": "stream",
          "name": "stdout",
          "text": [
            "torch.Size([16, 100])\n",
            "torch.Size([16, 10])\n"
          ]
        }
      ]
    },
    {
      "cell_type": "code",
      "source": [
        "class Model(nn.Module):\n",
        "\n",
        "    def __init__(self):\n",
        "        super().__init__()\n",
        "\n",
        "        self.layer1 = torch.nn.Linear(100, 100)\n",
        "        self.sigmoid = torch.nn.Sigmoid()\n",
        "        self.layer2 = torch.nn.Linear(100, 10)\n",
        "\n",
        "    def forward(self, x):\n",
        "        x = self.layer1(x)\n",
        "        x = self.sigmoid(x)\n",
        "        x = self.layer2(x)\n",
        "        return x\n",
        "\n",
        "model = Model()"
      ],
      "metadata": {
        "id": "vdeSuR_eV5A2"
      },
      "execution_count": null,
      "outputs": []
    },
    {
      "cell_type": "markdown",
      "metadata": {
        "id": "gzg1T1hY8csa"
      },
      "source": [
        "One thing to notice is that we need not to specify `requires_grad=True` for the model's layers.since within a subclass of `torch.nn.module`, it's assumed that we want to track gradients on the layers' weights for learning."
      ]
    },
    {
      "cell_type": "markdown",
      "source": [
        "##Let's Analyse out layers weights."
      ],
      "metadata": {
        "id": "BaWVFKjBXN9g"
      }
    },
    {
      "cell_type": "code",
      "execution_count": null,
      "metadata": {
        "colab": {
          "base_uri": "https://localhost:8080/"
        },
        "id": "egEPlWb88csa",
        "outputId": "c2403a30-b3e7-4fe6-89d2-5035496d6eb9"
      },
      "outputs": [
        {
          "output_type": "stream",
          "name": "stdout",
          "text": [
            "torch.Size([100, 100])\n",
            "torch.Size([100])\n",
            "tensor([-0.0690, -0.0590, -0.0991, -0.0180, -0.0908, -0.0335,  0.0304,  0.0707,\n",
            "         0.0557,  0.0555], grad_fn=<SliceBackward0>)\n"
          ]
        }
      ],
      "source": [
        "print(model.layer1.weight.shape)\n",
        "print(model.layer1.weight[0].shape)\n",
        "print(model.layer1.weight[0][0:10])"
      ]
    },
    {
      "cell_type": "markdown",
      "metadata": {
        "id": "v-7tH89y8csa"
      },
      "source": [
        "Let's see how this changes when we run through one training batch. For a loss function, we'll just use the square of the Euclidean distance between our `prediction` and the `ideal_output`, and we'll use a basic stochastic gradient descent optimizer."
      ]
    },
    {
      "cell_type": "code",
      "execution_count": null,
      "metadata": {
        "colab": {
          "base_uri": "https://localhost:8080/"
        },
        "id": "KJch2cJg8csa",
        "outputId": "49cc84ae-64e5-4034-f71d-b8365133e4e2"
      },
      "outputs": [
        {
          "output_type": "stream",
          "name": "stdout",
          "text": [
            "tensor(169.9731, grad_fn=<SumBackward0>)\n"
          ]
        }
      ],
      "source": [
        "optimizer = torch.optim.SGD(model.parameters(), lr=0.001)\n",
        "\n",
        "prediction = model(X)\n",
        "\n",
        "loss = (Y - prediction).pow(2).sum()\n",
        "print(loss)"
      ]
    },
    {
      "cell_type": "markdown",
      "metadata": {
        "id": "4JuaSdLJ8csb"
      },
      "source": [
        "Now, let's call `loss.backward()` and see what happens:"
      ]
    },
    {
      "cell_type": "code",
      "execution_count": null,
      "metadata": {
        "colab": {
          "base_uri": "https://localhost:8080/"
        },
        "id": "T8aCcWpO8csb",
        "outputId": "7a30791c-778e-4fca-ddec-11e67237a8ad"
      },
      "outputs": [
        {
          "output_type": "stream",
          "name": "stdout",
          "text": [
            "tensor([-0.0690, -0.0590, -0.0991, -0.0180, -0.0908, -0.0335,  0.0304,  0.0707,\n",
            "         0.0557,  0.0555], grad_fn=<SliceBackward0>)\n",
            "tensor([-0.6092,  0.0218,  0.1235,  0.2599, -0.1831, -0.4217, -0.1907,  0.0267,\n",
            "         0.0226,  0.6305])\n"
          ]
        }
      ],
      "source": [
        "loss.backward()\n",
        "print(model.layer1.weight[0][0:10])\n",
        "print(model.layer1.weight.grad[0][0:10])"
      ]
    },
    {
      "cell_type": "markdown",
      "metadata": {
        "id": "Lcsr7rKL8csb"
      },
      "source": [
        "We can see that the gradients have been computed for each learning weight, but the weights remain unchanged, because we haven't run the optimizer yet. The optimizer is responsible for updating model weights based on the computed gradients."
      ]
    },
    {
      "cell_type": "code",
      "execution_count": null,
      "metadata": {
        "colab": {
          "base_uri": "https://localhost:8080/"
        },
        "id": "h0ubb-xC8csb",
        "outputId": "258fb8b4-b669-4430-f963-3f417f16dc1c"
      },
      "outputs": [
        {
          "output_type": "stream",
          "name": "stdout",
          "text": [
            "tensor([-0.0684, -0.0590, -0.0992, -0.0183, -0.0906, -0.0331,  0.0306,  0.0707,\n",
            "         0.0557,  0.0549], grad_fn=<SliceBackward0>)\n",
            "tensor([-0.6092,  0.0218,  0.1235,  0.2599, -0.1831, -0.4217, -0.1907,  0.0267,\n",
            "         0.0226,  0.6305])\n"
          ]
        }
      ],
      "source": [
        "optimizer.step()                               w(t+1) = w(t) - ita(gradient(loss_funtion))\n",
        "print(model.layer1.weight[0][0:10])\n",
        "print(model.layer1.weight.grad[0][0:10])"
      ]
    },
    {
      "cell_type": "markdown",
      "metadata": {
        "id": "I4u0c2h98csb"
      },
      "source": [
        "One important thing about the process: After calling `optimizer.step()`,we need to call `optimizer.zero_grad()`, or else every time we run `loss.backward()`, the gradients on the learning weights will accumulate:"
      ]
    },
    {
      "cell_type": "code",
      "execution_count": null,
      "metadata": {
        "colab": {
          "base_uri": "https://localhost:8080/",
          "height": 245
        },
        "id": "2_anhxsv8csb",
        "outputId": "a9471b5c-5579-4a99-a35f-e34d14a64efd"
      },
      "outputs": [
        {
          "output_type": "stream",
          "name": "stdout",
          "text": [
            "tensor([-0.6092,  0.0218,  0.1235,  0.2599, -0.1831, -0.4217, -0.1907,  0.0267,\n",
            "         0.0226,  0.6305])\n",
            "tensor([-3.4672,  0.2726,  1.2493,  1.3132, -0.8662, -2.3307, -1.0810,  0.0654,\n",
            "         0.2021,  3.8622])\n"
          ]
        },
        {
          "output_type": "error",
          "ename": "TypeError",
          "evalue": "'NoneType' object is not subscriptable",
          "traceback": [
            "\u001b[0;31m---------------------------------------------------------------------------\u001b[0m",
            "\u001b[0;31mTypeError\u001b[0m                                 Traceback (most recent call last)",
            "\u001b[0;32m<ipython-input-18-0907b978bd21>\u001b[0m in \u001b[0;36m<cell line: 13>\u001b[0;34m()\u001b[0m\n\u001b[1;32m     11\u001b[0m \u001b[0moptimizer\u001b[0m\u001b[0;34m.\u001b[0m\u001b[0mzero_grad\u001b[0m\u001b[0;34m(\u001b[0m\u001b[0;34m)\u001b[0m\u001b[0;34m\u001b[0m\u001b[0;34m\u001b[0m\u001b[0m\n\u001b[1;32m     12\u001b[0m \u001b[0;31m# error since all the gradients are set to none\u001b[0m\u001b[0;34m\u001b[0m\u001b[0;34m\u001b[0m\u001b[0m\n\u001b[0;32m---> 13\u001b[0;31m \u001b[0mprint\u001b[0m\u001b[0;34m(\u001b[0m\u001b[0mmodel\u001b[0m\u001b[0;34m.\u001b[0m\u001b[0mlayer1\u001b[0m\u001b[0;34m.\u001b[0m\u001b[0mweight\u001b[0m\u001b[0;34m.\u001b[0m\u001b[0mgrad\u001b[0m\u001b[0;34m[\u001b[0m\u001b[0;36m0\u001b[0m\u001b[0;34m]\u001b[0m\u001b[0;34m[\u001b[0m\u001b[0;36m0\u001b[0m\u001b[0;34m:\u001b[0m\u001b[0;36m10\u001b[0m\u001b[0;34m]\u001b[0m\u001b[0;34m)\u001b[0m\u001b[0;34m\u001b[0m\u001b[0;34m\u001b[0m\u001b[0m\n\u001b[0m",
            "\u001b[0;31mTypeError\u001b[0m: 'NoneType' object is not subscriptable"
          ]
        }
      ],
      "source": [
        "print(model.layer1.weight.grad[0][0:10])\n",
        "\n",
        "for i in range(0, 5):\n",
        "    prediction = model(X)\n",
        "    loss = (Y - prediction).pow(2).sum()\n",
        "    loss.backward()\n",
        "\n",
        "print(model.layer1.weight.grad[0][0:10])\n",
        "\n",
        "# setting gradients to zero\n",
        "optimizer.zero_grad()\n",
        "# error since all the gradients are set to none\n",
        "print(model.layer1.weight.grad[0][0:10])"
      ]
    },
    {
      "cell_type": "markdown",
      "source": [],
      "metadata": {
        "id": "bHuaKkMnciRr"
      }
    },
    {
      "cell_type": "markdown",
      "metadata": {
        "id": "H9dFbtAX8csb"
      },
      "source": [
        "After running the cell above, we can see that after running `loss.backward()` multiple times, the magnitudes of most of the gradients will be much larger.\n",
        "\n",
        "## Turning Autograd Off and On\n",
        "\n",
        "There are situations where you will need fine-grained control over whether autograd is enabled. There are multiple ways to do this, depending on the situation.\n",
        "\n",
        "The simplest is to change the `requires_grad` flag on a tensor directly:"
      ]
    },
    {
      "cell_type": "code",
      "execution_count": null,
      "metadata": {
        "colab": {
          "base_uri": "https://localhost:8080/"
        },
        "id": "k8pfyc258csb",
        "outputId": "f86f3c81-b0aa-4cad-b90b-f51bd4bf14be"
      },
      "outputs": [
        {
          "output_type": "stream",
          "name": "stdout",
          "text": [
            "tensor([[1., 1., 1.],\n",
            "        [1., 1., 1.]], requires_grad=True)\n",
            "tensor([[2., 2., 2.],\n",
            "        [2., 2., 2.]], grad_fn=<MulBackward0>)\n",
            "tensor([[2., 2., 2.],\n",
            "        [2., 2., 2.]])\n"
          ]
        }
      ],
      "source": [
        "a = torch.ones(2, 3, requires_grad=True)\n",
        "print(a)\n",
        "\n",
        "b1 = 2 * a\n",
        "print(b1)\n",
        "\n",
        "a.requires_grad = False\n",
        "b2 = 2 * a\n",
        "print(b2)"
      ]
    },
    {
      "cell_type": "markdown",
      "metadata": {
        "id": "PNAvGAad8csc"
      },
      "source": [
        "In the above cell, we see that `b1` has a `grad_fn` (computation history tracking is ON), which is expect, since it was derived from a tensor, `a`, that had autograd turned on.\n",
        "\n",
        "When we turn off autograd explicitly with `a.requires_grad = False`, computation history is no longer tracked, which we can see when we compute `b2`.\n",
        "\n",
        "If you only need autograd turned off temporarily, a better way is to use the `torch.no_grad()`:"
      ]
    },
    {
      "cell_type": "code",
      "execution_count": null,
      "metadata": {
        "scrolled": false,
        "colab": {
          "base_uri": "https://localhost:8080/"
        },
        "id": "nmTP3BGR8csc",
        "outputId": "1b68fc27-c910-4551-d2b2-ce3777e0bad1"
      },
      "outputs": [
        {
          "output_type": "stream",
          "name": "stdout",
          "text": [
            "tensor([[5., 5., 5.],\n",
            "        [5., 5., 5.]], grad_fn=<AddBackward0>)\n",
            "tensor([[5., 5., 5.],\n",
            "        [5., 5., 5.]])\n",
            "tensor([[6., 6., 6.],\n",
            "        [6., 6., 6.]], grad_fn=<MulBackward0>)\n"
          ]
        }
      ],
      "source": [
        "a = torch.ones(2, 3, requires_grad=True) * 2\n",
        "b = torch.ones(2, 3, requires_grad=True) * 3\n",
        "\n",
        "c1 = a + b\n",
        "print(c1)\n",
        "\n",
        "with torch.no_grad():\n",
        "    c2 = a + b\n",
        "\n",
        "print(c2)\n",
        "\n",
        "c3 = a * b\n",
        "print(c3)"
      ]
    },
    {
      "cell_type": "markdown",
      "metadata": {
        "id": "0hSLKhfb8csc"
      },
      "source": [
        "`torch.no_grad()` can also be used as a function or method dectorator:"
      ]
    },
    {
      "cell_type": "code",
      "execution_count": null,
      "metadata": {
        "colab": {
          "base_uri": "https://localhost:8080/"
        },
        "id": "vcF7Es8Q8csc",
        "outputId": "2aa66dc1-3741-4ddc-bf21-1aacfd6fa8cc"
      },
      "outputs": [
        {
          "output_type": "stream",
          "name": "stdout",
          "text": [
            "tensor([[5., 5., 5.],\n",
            "        [5., 5., 5.]], grad_fn=<AddBackward0>)\n",
            "tensor([[5., 5., 5.],\n",
            "        [5., 5., 5.]])\n"
          ]
        }
      ],
      "source": [
        "def add_tensors1(x, y):\n",
        "    return x + y\n",
        "\n",
        "@torch.no_grad()\n",
        "def add_tensors2(x, y):\n",
        "    return x + y\n",
        "\n",
        "\n",
        "a = torch.ones(2, 3, requires_grad=True) * 2\n",
        "b = torch.ones(2, 3, requires_grad=True) * 3\n",
        "\n",
        "c1 = add_tensors1(a, b)\n",
        "print(c1)\n",
        "\n",
        "c2 = add_tensors2(a, b)\n",
        "print(c2)"
      ]
    },
    {
      "cell_type": "code",
      "source": [],
      "metadata": {
        "id": "xPEy-KT-CJrO"
      },
      "execution_count": null,
      "outputs": []
    }
  ],
  "metadata": {
    "kernelspec": {
      "display_name": "Python 3",
      "language": "python",
      "name": "python3"
    },
    "language_info": {
      "codemirror_mode": {
        "name": "ipython",
        "version": 3
      },
      "file_extension": ".py",
      "mimetype": "text/x-python",
      "name": "python",
      "nbconvert_exporter": "python",
      "pygments_lexer": "ipython3",
      "version": "3.8.2"
    },
    "colab": {
      "provenance": []
    }
  },
  "nbformat": 4,
  "nbformat_minor": 0
}