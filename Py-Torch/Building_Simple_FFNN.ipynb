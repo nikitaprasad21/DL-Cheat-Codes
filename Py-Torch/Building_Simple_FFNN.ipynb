{
  "nbformat": 4,
  "nbformat_minor": 0,
  "metadata": {
    "colab": {
      "provenance": []
    },
    "kernelspec": {
      "name": "python3",
      "display_name": "Python 3"
    },
    "language_info": {
      "name": "python"
    }
  },
  "cells": [
    {
      "cell_type": "code",
      "source": [
        "from google.colab import drive\n",
        "drive.mount('/content/drive')"
      ],
      "metadata": {
        "id": "-M_vWSK1n5CV",
        "colab": {
          "base_uri": "https://localhost:8080/"
        },
        "outputId": "d2e8d385-1dd5-48eb-c580-6f98b5a72f19"
      },
      "execution_count": null,
      "outputs": [
        {
          "output_type": "stream",
          "name": "stdout",
          "text": [
            "Drive already mounted at /content/drive; to attempt to forcibly remount, call drive.mount(\"/content/drive\", force_remount=True).\n"
          ]
        }
      ]
    },
    {
      "cell_type": "code",
      "source": [
        "import numpy as np\n",
        "import pandas as pd\n",
        "import matplotlib.pyplot as plt\n",
        "from sklearn.model_selection import train_test_split\n",
        "from sklearn.preprocessing import Normalizer"
      ],
      "metadata": {
        "id": "hjwq3eA8o077"
      },
      "execution_count": null,
      "outputs": []
    },
    {
      "cell_type": "code",
      "source": [
        "import torch\n",
        "import torch.nn as nn\n",
        "import torch.nn.functional as F\n",
        "import torch.optim as optim\n",
        "from torch.utils.data import DataLoader\n",
        "from torch.utils.data import Dataset"
      ],
      "metadata": {
        "id": "92tnUFiCseLx"
      },
      "execution_count": null,
      "outputs": []
    },
    {
      "cell_type": "code",
      "source": [
        "df = pd.read_csv(\"/content/drive/MyDrive/mnist_train.csv\")\n",
        "Y = df['label']\n",
        "X = df.drop('label',axis= 1)"
      ],
      "metadata": {
        "id": "uCtuYjt2p-ne"
      },
      "execution_count": null,
      "outputs": []
    },
    {
      "cell_type": "code",
      "source": [
        "X.sample(10).iloc[:,200:]"
      ],
      "metadata": {
        "colab": {
          "base_uri": "https://localhost:8080/",
          "height": 392
        },
        "id": "8xARwvVZqu8b",
        "outputId": "d647b70b-9eee-4e82-98e0-a651e2d519a2"
      },
      "execution_count": null,
      "outputs": [
        {
          "output_type": "execute_result",
          "data": {
            "text/plain": [
              "       8x5  8x6  8x7  8x8  8x9  8x10  8x11  8x12  8x13  8x14  ...  28x19  \\\n",
              "42884    0    0    0    0    0    23    66   146   159   255  ...      0   \n",
              "47295    0    0    0    0    0     0   113   233   254   233  ...      0   \n",
              "46496    0    0    0    0    0     0     0     0     0    51  ...      0   \n",
              "43688    0    0    0    0    0     0     0     0     0    27  ...      0   \n",
              "50160    0    0    0    0    0     0     0   158   217   253  ...      0   \n",
              "6970     0    0    0   19  103   252   253   252   252   252  ...      0   \n",
              "30875    0    0    0    0    0     0     0     0     0    31  ...      0   \n",
              "18171    0    0    0    0    0     0    38   220   253   253  ...      0   \n",
              "16502    0    0    0    0    0   253   252   252   252   252  ...      0   \n",
              "49816    0    0    0    0    0     0     0     0     0   144  ...      0   \n",
              "\n",
              "       28x20  28x21  28x22  28x23  28x24  28x25  28x26  28x27  28x28  \n",
              "42884      0      0      0      0      0      0      0      0      0  \n",
              "47295      0      0      0      0      0      0      0      0      0  \n",
              "46496      0      0      0      0      0      0      0      0      0  \n",
              "43688      0      0      0      0      0      0      0      0      0  \n",
              "50160      0      0      0      0      0      0      0      0      0  \n",
              "6970       0      0      0      0      0      0      0      0      0  \n",
              "30875      0      0      0      0      0      0      0      0      0  \n",
              "18171      0      0      0      0      0      0      0      0      0  \n",
              "16502      0      0      0      0      0      0      0      0      0  \n",
              "49816      0      0      0      0      0      0      0      0      0  \n",
              "\n",
              "[10 rows x 584 columns]"
            ],
            "text/html": [
              "\n",
              "  <div id=\"df-3b8f03d7-4bc9-4017-a70d-42bd536b9895\" class=\"colab-df-container\">\n",
              "    <div>\n",
              "<style scoped>\n",
              "    .dataframe tbody tr th:only-of-type {\n",
              "        vertical-align: middle;\n",
              "    }\n",
              "\n",
              "    .dataframe tbody tr th {\n",
              "        vertical-align: top;\n",
              "    }\n",
              "\n",
              "    .dataframe thead th {\n",
              "        text-align: right;\n",
              "    }\n",
              "</style>\n",
              "<table border=\"1\" class=\"dataframe\">\n",
              "  <thead>\n",
              "    <tr style=\"text-align: right;\">\n",
              "      <th></th>\n",
              "      <th>8x5</th>\n",
              "      <th>8x6</th>\n",
              "      <th>8x7</th>\n",
              "      <th>8x8</th>\n",
              "      <th>8x9</th>\n",
              "      <th>8x10</th>\n",
              "      <th>8x11</th>\n",
              "      <th>8x12</th>\n",
              "      <th>8x13</th>\n",
              "      <th>8x14</th>\n",
              "      <th>...</th>\n",
              "      <th>28x19</th>\n",
              "      <th>28x20</th>\n",
              "      <th>28x21</th>\n",
              "      <th>28x22</th>\n",
              "      <th>28x23</th>\n",
              "      <th>28x24</th>\n",
              "      <th>28x25</th>\n",
              "      <th>28x26</th>\n",
              "      <th>28x27</th>\n",
              "      <th>28x28</th>\n",
              "    </tr>\n",
              "  </thead>\n",
              "  <tbody>\n",
              "    <tr>\n",
              "      <th>42884</th>\n",
              "      <td>0</td>\n",
              "      <td>0</td>\n",
              "      <td>0</td>\n",
              "      <td>0</td>\n",
              "      <td>0</td>\n",
              "      <td>23</td>\n",
              "      <td>66</td>\n",
              "      <td>146</td>\n",
              "      <td>159</td>\n",
              "      <td>255</td>\n",
              "      <td>...</td>\n",
              "      <td>0</td>\n",
              "      <td>0</td>\n",
              "      <td>0</td>\n",
              "      <td>0</td>\n",
              "      <td>0</td>\n",
              "      <td>0</td>\n",
              "      <td>0</td>\n",
              "      <td>0</td>\n",
              "      <td>0</td>\n",
              "      <td>0</td>\n",
              "    </tr>\n",
              "    <tr>\n",
              "      <th>47295</th>\n",
              "      <td>0</td>\n",
              "      <td>0</td>\n",
              "      <td>0</td>\n",
              "      <td>0</td>\n",
              "      <td>0</td>\n",
              "      <td>0</td>\n",
              "      <td>113</td>\n",
              "      <td>233</td>\n",
              "      <td>254</td>\n",
              "      <td>233</td>\n",
              "      <td>...</td>\n",
              "      <td>0</td>\n",
              "      <td>0</td>\n",
              "      <td>0</td>\n",
              "      <td>0</td>\n",
              "      <td>0</td>\n",
              "      <td>0</td>\n",
              "      <td>0</td>\n",
              "      <td>0</td>\n",
              "      <td>0</td>\n",
              "      <td>0</td>\n",
              "    </tr>\n",
              "    <tr>\n",
              "      <th>46496</th>\n",
              "      <td>0</td>\n",
              "      <td>0</td>\n",
              "      <td>0</td>\n",
              "      <td>0</td>\n",
              "      <td>0</td>\n",
              "      <td>0</td>\n",
              "      <td>0</td>\n",
              "      <td>0</td>\n",
              "      <td>0</td>\n",
              "      <td>51</td>\n",
              "      <td>...</td>\n",
              "      <td>0</td>\n",
              "      <td>0</td>\n",
              "      <td>0</td>\n",
              "      <td>0</td>\n",
              "      <td>0</td>\n",
              "      <td>0</td>\n",
              "      <td>0</td>\n",
              "      <td>0</td>\n",
              "      <td>0</td>\n",
              "      <td>0</td>\n",
              "    </tr>\n",
              "    <tr>\n",
              "      <th>43688</th>\n",
              "      <td>0</td>\n",
              "      <td>0</td>\n",
              "      <td>0</td>\n",
              "      <td>0</td>\n",
              "      <td>0</td>\n",
              "      <td>0</td>\n",
              "      <td>0</td>\n",
              "      <td>0</td>\n",
              "      <td>0</td>\n",
              "      <td>27</td>\n",
              "      <td>...</td>\n",
              "      <td>0</td>\n",
              "      <td>0</td>\n",
              "      <td>0</td>\n",
              "      <td>0</td>\n",
              "      <td>0</td>\n",
              "      <td>0</td>\n",
              "      <td>0</td>\n",
              "      <td>0</td>\n",
              "      <td>0</td>\n",
              "      <td>0</td>\n",
              "    </tr>\n",
              "    <tr>\n",
              "      <th>50160</th>\n",
              "      <td>0</td>\n",
              "      <td>0</td>\n",
              "      <td>0</td>\n",
              "      <td>0</td>\n",
              "      <td>0</td>\n",
              "      <td>0</td>\n",
              "      <td>0</td>\n",
              "      <td>158</td>\n",
              "      <td>217</td>\n",
              "      <td>253</td>\n",
              "      <td>...</td>\n",
              "      <td>0</td>\n",
              "      <td>0</td>\n",
              "      <td>0</td>\n",
              "      <td>0</td>\n",
              "      <td>0</td>\n",
              "      <td>0</td>\n",
              "      <td>0</td>\n",
              "      <td>0</td>\n",
              "      <td>0</td>\n",
              "      <td>0</td>\n",
              "    </tr>\n",
              "    <tr>\n",
              "      <th>6970</th>\n",
              "      <td>0</td>\n",
              "      <td>0</td>\n",
              "      <td>0</td>\n",
              "      <td>19</td>\n",
              "      <td>103</td>\n",
              "      <td>252</td>\n",
              "      <td>253</td>\n",
              "      <td>252</td>\n",
              "      <td>252</td>\n",
              "      <td>252</td>\n",
              "      <td>...</td>\n",
              "      <td>0</td>\n",
              "      <td>0</td>\n",
              "      <td>0</td>\n",
              "      <td>0</td>\n",
              "      <td>0</td>\n",
              "      <td>0</td>\n",
              "      <td>0</td>\n",
              "      <td>0</td>\n",
              "      <td>0</td>\n",
              "      <td>0</td>\n",
              "    </tr>\n",
              "    <tr>\n",
              "      <th>30875</th>\n",
              "      <td>0</td>\n",
              "      <td>0</td>\n",
              "      <td>0</td>\n",
              "      <td>0</td>\n",
              "      <td>0</td>\n",
              "      <td>0</td>\n",
              "      <td>0</td>\n",
              "      <td>0</td>\n",
              "      <td>0</td>\n",
              "      <td>31</td>\n",
              "      <td>...</td>\n",
              "      <td>0</td>\n",
              "      <td>0</td>\n",
              "      <td>0</td>\n",
              "      <td>0</td>\n",
              "      <td>0</td>\n",
              "      <td>0</td>\n",
              "      <td>0</td>\n",
              "      <td>0</td>\n",
              "      <td>0</td>\n",
              "      <td>0</td>\n",
              "    </tr>\n",
              "    <tr>\n",
              "      <th>18171</th>\n",
              "      <td>0</td>\n",
              "      <td>0</td>\n",
              "      <td>0</td>\n",
              "      <td>0</td>\n",
              "      <td>0</td>\n",
              "      <td>0</td>\n",
              "      <td>38</td>\n",
              "      <td>220</td>\n",
              "      <td>253</td>\n",
              "      <td>253</td>\n",
              "      <td>...</td>\n",
              "      <td>0</td>\n",
              "      <td>0</td>\n",
              "      <td>0</td>\n",
              "      <td>0</td>\n",
              "      <td>0</td>\n",
              "      <td>0</td>\n",
              "      <td>0</td>\n",
              "      <td>0</td>\n",
              "      <td>0</td>\n",
              "      <td>0</td>\n",
              "    </tr>\n",
              "    <tr>\n",
              "      <th>16502</th>\n",
              "      <td>0</td>\n",
              "      <td>0</td>\n",
              "      <td>0</td>\n",
              "      <td>0</td>\n",
              "      <td>0</td>\n",
              "      <td>253</td>\n",
              "      <td>252</td>\n",
              "      <td>252</td>\n",
              "      <td>252</td>\n",
              "      <td>252</td>\n",
              "      <td>...</td>\n",
              "      <td>0</td>\n",
              "      <td>0</td>\n",
              "      <td>0</td>\n",
              "      <td>0</td>\n",
              "      <td>0</td>\n",
              "      <td>0</td>\n",
              "      <td>0</td>\n",
              "      <td>0</td>\n",
              "      <td>0</td>\n",
              "      <td>0</td>\n",
              "    </tr>\n",
              "    <tr>\n",
              "      <th>49816</th>\n",
              "      <td>0</td>\n",
              "      <td>0</td>\n",
              "      <td>0</td>\n",
              "      <td>0</td>\n",
              "      <td>0</td>\n",
              "      <td>0</td>\n",
              "      <td>0</td>\n",
              "      <td>0</td>\n",
              "      <td>0</td>\n",
              "      <td>144</td>\n",
              "      <td>...</td>\n",
              "      <td>0</td>\n",
              "      <td>0</td>\n",
              "      <td>0</td>\n",
              "      <td>0</td>\n",
              "      <td>0</td>\n",
              "      <td>0</td>\n",
              "      <td>0</td>\n",
              "      <td>0</td>\n",
              "      <td>0</td>\n",
              "      <td>0</td>\n",
              "    </tr>\n",
              "  </tbody>\n",
              "</table>\n",
              "<p>10 rows × 584 columns</p>\n",
              "</div>\n",
              "    <div class=\"colab-df-buttons\">\n",
              "\n",
              "  <div class=\"colab-df-container\">\n",
              "    <button class=\"colab-df-convert\" onclick=\"convertToInteractive('df-3b8f03d7-4bc9-4017-a70d-42bd536b9895')\"\n",
              "            title=\"Convert this dataframe to an interactive table.\"\n",
              "            style=\"display:none;\">\n",
              "\n",
              "  <svg xmlns=\"http://www.w3.org/2000/svg\" height=\"24px\" viewBox=\"0 -960 960 960\">\n",
              "    <path d=\"M120-120v-720h720v720H120Zm60-500h600v-160H180v160Zm220 220h160v-160H400v160Zm0 220h160v-160H400v160ZM180-400h160v-160H180v160Zm440 0h160v-160H620v160ZM180-180h160v-160H180v160Zm440 0h160v-160H620v160Z\"/>\n",
              "  </svg>\n",
              "    </button>\n",
              "\n",
              "  <style>\n",
              "    .colab-df-container {\n",
              "      display:flex;\n",
              "      gap: 12px;\n",
              "    }\n",
              "\n",
              "    .colab-df-convert {\n",
              "      background-color: #E8F0FE;\n",
              "      border: none;\n",
              "      border-radius: 50%;\n",
              "      cursor: pointer;\n",
              "      display: none;\n",
              "      fill: #1967D2;\n",
              "      height: 32px;\n",
              "      padding: 0 0 0 0;\n",
              "      width: 32px;\n",
              "    }\n",
              "\n",
              "    .colab-df-convert:hover {\n",
              "      background-color: #E2EBFA;\n",
              "      box-shadow: 0px 1px 2px rgba(60, 64, 67, 0.3), 0px 1px 3px 1px rgba(60, 64, 67, 0.15);\n",
              "      fill: #174EA6;\n",
              "    }\n",
              "\n",
              "    .colab-df-buttons div {\n",
              "      margin-bottom: 4px;\n",
              "    }\n",
              "\n",
              "    [theme=dark] .colab-df-convert {\n",
              "      background-color: #3B4455;\n",
              "      fill: #D2E3FC;\n",
              "    }\n",
              "\n",
              "    [theme=dark] .colab-df-convert:hover {\n",
              "      background-color: #434B5C;\n",
              "      box-shadow: 0px 1px 3px 1px rgba(0, 0, 0, 0.15);\n",
              "      filter: drop-shadow(0px 1px 2px rgba(0, 0, 0, 0.3));\n",
              "      fill: #FFFFFF;\n",
              "    }\n",
              "  </style>\n",
              "\n",
              "    <script>\n",
              "      const buttonEl =\n",
              "        document.querySelector('#df-3b8f03d7-4bc9-4017-a70d-42bd536b9895 button.colab-df-convert');\n",
              "      buttonEl.style.display =\n",
              "        google.colab.kernel.accessAllowed ? 'block' : 'none';\n",
              "\n",
              "      async function convertToInteractive(key) {\n",
              "        const element = document.querySelector('#df-3b8f03d7-4bc9-4017-a70d-42bd536b9895');\n",
              "        const dataTable =\n",
              "          await google.colab.kernel.invokeFunction('convertToInteractive',\n",
              "                                                    [key], {});\n",
              "        if (!dataTable) return;\n",
              "\n",
              "        const docLinkHtml = 'Like what you see? Visit the ' +\n",
              "          '<a target=\"_blank\" href=https://colab.research.google.com/notebooks/data_table.ipynb>data table notebook</a>'\n",
              "          + ' to learn more about interactive tables.';\n",
              "        element.innerHTML = '';\n",
              "        dataTable['output_type'] = 'display_data';\n",
              "        await google.colab.output.renderOutput(dataTable, element);\n",
              "        const docLink = document.createElement('div');\n",
              "        docLink.innerHTML = docLinkHtml;\n",
              "        element.appendChild(docLink);\n",
              "      }\n",
              "    </script>\n",
              "  </div>\n",
              "\n",
              "\n",
              "<div id=\"df-d079eb57-2179-4dde-a453-9761cdc4a6de\">\n",
              "  <button class=\"colab-df-quickchart\" onclick=\"quickchart('df-d079eb57-2179-4dde-a453-9761cdc4a6de')\"\n",
              "            title=\"Suggest charts\"\n",
              "            style=\"display:none;\">\n",
              "\n",
              "<svg xmlns=\"http://www.w3.org/2000/svg\" height=\"24px\"viewBox=\"0 0 24 24\"\n",
              "     width=\"24px\">\n",
              "    <g>\n",
              "        <path d=\"M19 3H5c-1.1 0-2 .9-2 2v14c0 1.1.9 2 2 2h14c1.1 0 2-.9 2-2V5c0-1.1-.9-2-2-2zM9 17H7v-7h2v7zm4 0h-2V7h2v10zm4 0h-2v-4h2v4z\"/>\n",
              "    </g>\n",
              "</svg>\n",
              "  </button>\n",
              "\n",
              "<style>\n",
              "  .colab-df-quickchart {\n",
              "      --bg-color: #E8F0FE;\n",
              "      --fill-color: #1967D2;\n",
              "      --hover-bg-color: #E2EBFA;\n",
              "      --hover-fill-color: #174EA6;\n",
              "      --disabled-fill-color: #AAA;\n",
              "      --disabled-bg-color: #DDD;\n",
              "  }\n",
              "\n",
              "  [theme=dark] .colab-df-quickchart {\n",
              "      --bg-color: #3B4455;\n",
              "      --fill-color: #D2E3FC;\n",
              "      --hover-bg-color: #434B5C;\n",
              "      --hover-fill-color: #FFFFFF;\n",
              "      --disabled-bg-color: #3B4455;\n",
              "      --disabled-fill-color: #666;\n",
              "  }\n",
              "\n",
              "  .colab-df-quickchart {\n",
              "    background-color: var(--bg-color);\n",
              "    border: none;\n",
              "    border-radius: 50%;\n",
              "    cursor: pointer;\n",
              "    display: none;\n",
              "    fill: var(--fill-color);\n",
              "    height: 32px;\n",
              "    padding: 0;\n",
              "    width: 32px;\n",
              "  }\n",
              "\n",
              "  .colab-df-quickchart:hover {\n",
              "    background-color: var(--hover-bg-color);\n",
              "    box-shadow: 0 1px 2px rgba(60, 64, 67, 0.3), 0 1px 3px 1px rgba(60, 64, 67, 0.15);\n",
              "    fill: var(--button-hover-fill-color);\n",
              "  }\n",
              "\n",
              "  .colab-df-quickchart-complete:disabled,\n",
              "  .colab-df-quickchart-complete:disabled:hover {\n",
              "    background-color: var(--disabled-bg-color);\n",
              "    fill: var(--disabled-fill-color);\n",
              "    box-shadow: none;\n",
              "  }\n",
              "\n",
              "  .colab-df-spinner {\n",
              "    border: 2px solid var(--fill-color);\n",
              "    border-color: transparent;\n",
              "    border-bottom-color: var(--fill-color);\n",
              "    animation:\n",
              "      spin 1s steps(1) infinite;\n",
              "  }\n",
              "\n",
              "  @keyframes spin {\n",
              "    0% {\n",
              "      border-color: transparent;\n",
              "      border-bottom-color: var(--fill-color);\n",
              "      border-left-color: var(--fill-color);\n",
              "    }\n",
              "    20% {\n",
              "      border-color: transparent;\n",
              "      border-left-color: var(--fill-color);\n",
              "      border-top-color: var(--fill-color);\n",
              "    }\n",
              "    30% {\n",
              "      border-color: transparent;\n",
              "      border-left-color: var(--fill-color);\n",
              "      border-top-color: var(--fill-color);\n",
              "      border-right-color: var(--fill-color);\n",
              "    }\n",
              "    40% {\n",
              "      border-color: transparent;\n",
              "      border-right-color: var(--fill-color);\n",
              "      border-top-color: var(--fill-color);\n",
              "    }\n",
              "    60% {\n",
              "      border-color: transparent;\n",
              "      border-right-color: var(--fill-color);\n",
              "    }\n",
              "    80% {\n",
              "      border-color: transparent;\n",
              "      border-right-color: var(--fill-color);\n",
              "      border-bottom-color: var(--fill-color);\n",
              "    }\n",
              "    90% {\n",
              "      border-color: transparent;\n",
              "      border-bottom-color: var(--fill-color);\n",
              "    }\n",
              "  }\n",
              "</style>\n",
              "\n",
              "  <script>\n",
              "    async function quickchart(key) {\n",
              "      const quickchartButtonEl =\n",
              "        document.querySelector('#' + key + ' button');\n",
              "      quickchartButtonEl.disabled = true;  // To prevent multiple clicks.\n",
              "      quickchartButtonEl.classList.add('colab-df-spinner');\n",
              "      try {\n",
              "        const charts = await google.colab.kernel.invokeFunction(\n",
              "            'suggestCharts', [key], {});\n",
              "      } catch (error) {\n",
              "        console.error('Error during call to suggestCharts:', error);\n",
              "      }\n",
              "      quickchartButtonEl.classList.remove('colab-df-spinner');\n",
              "      quickchartButtonEl.classList.add('colab-df-quickchart-complete');\n",
              "    }\n",
              "    (() => {\n",
              "      let quickchartButtonEl =\n",
              "        document.querySelector('#df-d079eb57-2179-4dde-a453-9761cdc4a6de button');\n",
              "      quickchartButtonEl.style.display =\n",
              "        google.colab.kernel.accessAllowed ? 'block' : 'none';\n",
              "    })();\n",
              "  </script>\n",
              "</div>\n",
              "\n",
              "    </div>\n",
              "  </div>\n"
            ],
            "application/vnd.google.colaboratory.intrinsic+json": {
              "type": "dataframe"
            }
          },
          "metadata": {},
          "execution_count": 37
        }
      ]
    },
    {
      "cell_type": "code",
      "source": [
        "fig, axes = plt.subplots(2,5, figsize=(12,5))\n",
        "axes = axes.flatten()\n",
        "idx = np.random.randint(0,60000,size=10)\n",
        "for i in range(10):\n",
        "    axes[i].imshow(X.iloc[idx[i],:].values.reshape(28,28), cmap='gray')\n",
        "    axes[i].axis('off') # hide the axes ticks\n",
        "    axes[i].set_title(str(int(Y[idx[i]])), color= 'black', fontsize=25)\n",
        "plt.show()"
      ],
      "metadata": {
        "colab": {
          "base_uri": "https://localhost:8080/",
          "height": 442
        },
        "id": "vJ1PXZzvsXqI",
        "outputId": "f887bc01-9612-4868-be13-036ac7ac900f"
      },
      "execution_count": null,
      "outputs": [
        {
          "output_type": "display_data",
          "data": {
            "text/plain": [
              "<Figure size 1200x500 with 10 Axes>"
            ],
            "image/png": "[encoded data removed]"
          },
          "metadata": {}
        }
      ]
    },
    {
      "cell_type": "code",
      "source": [
        "# Test-Train-Val Dataset Spliting.\n",
        "\n",
        "x_t,x_test,y_t,y_test = train_test_split(X,Y,test_size = 0.2,random_state = 42)\n",
        "x_train,x_val,y_train,y_val = train_test_split(x_t,y_t,test_size=0.2,random_state=42)"
      ],
      "metadata": {
        "id": "PjPFsDDautGh"
      },
      "execution_count": null,
      "outputs": []
    },
    {
      "cell_type": "code",
      "source": [
        "# Normalizing the Dataset.\n",
        "\n",
        "normalizer = Normalizer()\n",
        "x_train = normalizer.fit_transform(x_train)\n",
        "x_val = normalizer.transform(x_val)\n",
        "x_test = normalizer.transform(x_test)"
      ],
      "metadata": {
        "id": "BFZkgwKMothS"
      },
      "execution_count": null,
      "outputs": []
    },
    {
      "cell_type": "code",
      "source": [
        "lst = list(range(1,11))"
      ],
      "metadata": {
        "id": "-PdcGDzES7HH"
      },
      "execution_count": null,
      "outputs": []
    },
    {
      "cell_type": "code",
      "source": [
        "lst[0]"
      ],
      "metadata": {
        "colab": {
          "base_uri": "https://localhost:8080/"
        },
        "id": "ls1ec3nOTmzk",
        "outputId": "b904f1cc-0618-4064-fad3-db2039e6c900"
      },
      "execution_count": null,
      "outputs": [
        {
          "output_type": "execute_result",
          "data": {
            "text/plain": [
              "1"
            ]
          },
          "metadata": {},
          "execution_count": 42
        }
      ]
    },
    {
      "cell_type": "markdown",
      "source": [
        "## Dataset & Dataloader class\n",
        "\n",
        "1. Basic Idea behind the Dataset and DataLoader class is to be decoupled from our model training code for better readability and modularity.\n",
        "2. PyTorch provides two data primitives: `torch.utils.data.DataLoader` and `torch.utils.data.Dataset` that allow you to use pre-loaded datasets as well as your own data.\n",
        "3. Dataset class stores the samples and their corresponding labels, and DataLoader class wraps an iterable around the Dataset to enable easy access to the samples."
      ],
      "metadata": {
        "id": "cNstRV-U3uIX"
      }
    },
    {
      "cell_type": "markdown",
      "source": [
        "## Dataset Class\n",
        "\n",
        "A custom Dataset class must implement three functions: ``__init__``, ``__len__``, and ``__getitem__``.\n",
        "\n",
        "1. The __init__ function is run once when instantiating the Dataset object. We initialize the directory containing the images, the annotations file, and both transforms\n",
        "2. The __len__ function returns the number of samples in our dataset.\n",
        "3. The __getitem__ function loads and returns a sample from the dataset at the given index idx. Based on the index, it identifies the sample and label and return it as a tuple."
      ],
      "metadata": {
        "id": "YC6OIufI48hB"
      }
    },
    {
      "cell_type": "code",
      "source": [
        "class CustomDataset(Dataset):\n",
        "\n",
        "  def __init__(self,features,label):\n",
        "    self.features = features\n",
        "    self.label = label\n",
        "\n",
        "  def __len__(self):\n",
        "    return self.features.shape[0]\n",
        "\n",
        "  def __getitem__(self,idx):\n",
        "\n",
        "    sample = self.features[idx]\n",
        "    label = self.label.values[idx]\n",
        "    sample_tensor = torch.tensor(sample,dtype = torch.float32)\n",
        "    label_tensor = torch.tensor(label,dtype = torch.long)\n",
        "\n",
        "    return sample_tensor,label_tensor"
      ],
      "metadata": {
        "id": "VpOuzCR5u9QK"
      },
      "execution_count": null,
      "outputs": []
    },
    {
      "cell_type": "code",
      "source": [
        "train_dataset = CustomDataset(x_train,y_train)\n",
        "val_dataset = CustomDataset(x_val,y_val)\n",
        "test_dataset = CustomDataset(x_test,y_test)"
      ],
      "metadata": {
        "id": "_MWhQw4AvQ7w"
      },
      "execution_count": null,
      "outputs": []
    },
    {
      "cell_type": "markdown",
      "source": [
        "## DataLoader Class\n",
        "\n",
        "The Dataset retrieves our dataset’s features and labels one sample at a time. While training a model, we typically want to pass samples in “minibatches”, reshuffle the data at every epoch to reduce model overfitting, and use Python’s multiprocessing(num_worker) to speed up data retrieval.\n",
        "\n",
        "`DataLoader is an iterable that abstracts this complexity for us in an easy API.`\n",
        "\n",
        "When we load the dataset into the DataLoader and we can iterate through the dataset as needed.\n"
      ],
      "metadata": {
        "id": "zbhT9DQX6OXE"
      }
    },
    {
      "cell_type": "code",
      "source": [
        "batch_size = 64\n",
        "device = (\"cuda\" if torch.cuda.is_available() else \"cpu\")"
      ],
      "metadata": {
        "id": "CTiLykVU9i3S"
      },
      "execution_count": null,
      "outputs": []
    },
    {
      "cell_type": "code",
      "source": [
        "print(device)"
      ],
      "metadata": {
        "colab": {
          "base_uri": "https://localhost:8080/"
        },
        "id": "C_U75wOeXYzD",
        "outputId": "96b73d5b-8fad-497a-c127-fa982463026c"
      },
      "execution_count": null,
      "outputs": [
        {
          "output_type": "stream",
          "name": "stdout",
          "text": [
            "cpu\n"
          ]
        }
      ]
    },
    {
      "cell_type": "code",
      "source": [
        "train_dataloader = DataLoader(train_dataset,batch_size=batch_size,shuffle=True)\n",
        "val_dataloader = DataLoader(val_dataset,batch_size = batch_size,shuffle=True)\n",
        "test_dataloader = DataLoader(test_dataset,batch_size=batch_size,shuffle=True)"
      ],
      "metadata": {
        "id": "RbaYQ4ywzjL6"
      },
      "execution_count": null,
      "outputs": []
    },
    {
      "cell_type": "markdown",
      "source": [
        "Each iteration below returns a batch of train_features and train_labels (containing batch_size=64 features and labels respectively). Because we specified shuffle=True, after we iterate over all batches the data is shuffled."
      ],
      "metadata": {
        "id": "-JX3nP-j7A6J"
      }
    },
    {
      "cell_type": "code",
      "source": [
        "data,label = next(iter(train_dataloader))\n",
        "print(data[:,278:300])\n",
        "print(label)"
      ],
      "metadata": {
        "colab": {
          "base_uri": "https://localhost:8080/"
        },
        "id": "r9z7qLwPcz28",
        "outputId": "1cfd4995-2610-4819-dab6-1ef94b6ce054"
      },
      "execution_count": null,
      "outputs": [
        {
          "output_type": "stream",
          "name": "stdout",
          "text": [
            "tensor([[0.0000, 0.0000, 0.0000,  ..., 0.1074, 0.0000, 0.0000],\n",
            "        [0.0000, 0.0000, 0.0000,  ..., 0.0783, 0.0822, 0.0822],\n",
            "        [0.0000, 0.0000, 0.0000,  ..., 0.1113, 0.1113, 0.0506],\n",
            "        ...,\n",
            "        [0.0000, 0.0000, 0.0000,  ..., 0.0000, 0.0000, 0.0000],\n",
            "        [0.0000, 0.0000, 0.0000,  ..., 0.0063, 0.0000, 0.0000],\n",
            "        [0.0000, 0.0000, 0.0000,  ..., 0.0000, 0.0873, 0.1099]])\n",
            "tensor([4, 6, 1, 1, 8, 2, 3, 3, 7, 5, 9, 2, 8, 3, 9, 3, 6, 9, 1, 6, 0, 1, 4, 5,\n",
            "        7, 6, 0, 9, 6, 7, 3, 0, 6, 1, 2, 6, 2, 8, 4, 2, 0, 7, 2, 2, 8, 8, 6, 1,\n",
            "        2, 6, 6, 0, 1, 9, 9, 3, 6, 8, 2, 3, 8, 5, 4, 7])\n"
          ]
        }
      ]
    },
    {
      "cell_type": "markdown",
      "source": [
        "\n",
        "## `torch.nn.Module` and `torch.nn.Parameter`\n",
        "\n",
        "\n",
        "Except for `Parameter`, the classes we will be discussing are all subclasses of `torch.nn.Module`.\n",
        "\n",
        "`torch.nn.module` is the PyTorch base class which is meant to encapsulate behaviors specific to `PyTorch Models` and their `Components` like activation functions etc.\n",
        "\n",
        "One of the important behavior of `torch.nn.Module` is registering(Intializing) parameters for the layers defined using subclass of `Module`\n",
        "\n",
        "For Example:\n",
        "`Module` subclass ,`nn.Linear()` has learning weights, these weights are expressed as instances of `torch.nn.Parameter` class.\n",
        "\n",
        "The `Parameter` class is a subclass of `torch.Tensor`, with the special behavior that when they are assigned as attributes of a `Module`, they are added to the list of that modules parameters. These parameters can be accessed through the `parameters()` method on the `Module` class.\n",
        "\n",
        "As a simple example, we will be going to build a simple FFNN for MNIST Dataset for Digit Recognition"
      ],
      "metadata": {
        "id": "HY7Me0dl2EPj"
      }
    },
    {
      "cell_type": "markdown",
      "source": [
        "## Simple Model"
      ],
      "metadata": {
        "id": "1R6ngQWOxzcX"
      }
    },
    {
      "cell_type": "code",
      "source": [
        "class Model1(nn.Module):\n",
        "    def __init__(self):\n",
        "        super().__init__()\n",
        "        self.fc1 = nn.Linear(28*28, 512)\n",
        "        self.relu1 = nn.ReLU()\n",
        "        self.fc2 = nn.Linear(512, 512)\n",
        "        self.relu2 = nn.ReLU()\n",
        "        self.fc3 = nn.Linear(512, 10)\n",
        "\n",
        "    def forward(self, x):\n",
        "        x = self.relu1(self.fc1(x))\n",
        "        x = self.relu2(self.fc2(x))\n",
        "        x = self.fc3(x)\n",
        "        return x\n"
      ],
      "metadata": {
        "id": "lctHBNKXxu-M"
      },
      "execution_count": null,
      "outputs": []
    },
    {
      "cell_type": "markdown",
      "source": [
        "## Using Functional Interface\n",
        "```\n",
        "1. It's a functional interface where we directly pass the input tensor to it and get the activated output.\n",
        "2. It does not hold or manage any internal state and therefore stateless.\n",
        "3. Since it's stateless, it's ideal when you don't need the module to track activations as part of the model's stateful components.\n",
        "\n",
        "```"
      ],
      "metadata": {
        "id": "jgLOu42dyQse"
      }
    },
    {
      "cell_type": "code",
      "source": [
        "class FunctionalModel(nn.Module):\n",
        "    def __init__(self):\n",
        "        super().__init__()\n",
        "        self.fc1 = nn.Linear(784, 512)\n",
        "        self.fc2 = nn.Linear(512, 512)\n",
        "        self.fc3 = nn.Linear(512, 10)\n",
        "\n",
        "    def forward(self, x):\n",
        "        x = F.relu(self.fc1(x))\n",
        "        x = F.relu(self.fc2(x))\n",
        "        x = self.fc3(x)\n",
        "        return x\n"
      ],
      "metadata": {
        "id": "K3z1XtajyPsp"
      },
      "execution_count": null,
      "outputs": []
    },
    {
      "cell_type": "markdown",
      "source": [
        "## Using nn.Sequential\n",
        "\n",
        "```\n",
        "1. This approach represent Model as a sequence of Operations.\n",
        "2. It the most concise way to define a model, but it offers less flexibility for models that require complex data flows or custom operations.\n",
        "3. \"nn.Sequential\" expects modules as its arguments.\n",
        "```"
      ],
      "metadata": {
        "id": "8uWtc_yRydUr"
      }
    },
    {
      "cell_type": "markdown",
      "source": [
        "Used for Simple CNN Models"
      ],
      "metadata": {
        "id": "LEwhuPiTiBxL"
      }
    },
    {
      "cell_type": "code",
      "source": [
        "class SeqModel(nn.Module):\n",
        "  def __init__(self):\n",
        "    super().__init__()\n",
        "    self.layer = nn.Sequential(\n",
        "                            nn.Linear(784, 512),\n",
        "                            nn.ReLU(),\n",
        "                            nn.Linear(512, 512),\n",
        "                            nn.ReLU(),\n",
        "                            nn.Linear(512, 10))\n",
        "\n",
        "  def forward(self,x):\n",
        "    return self.layer(x)\n"
      ],
      "metadata": {
        "id": "Y3DhflAIyalf"
      },
      "execution_count": null,
      "outputs": []
    },
    {
      "cell_type": "markdown",
      "source": [
        "## Using Batch Normalization and Dropout Layers"
      ],
      "metadata": {
        "id": "LhCnpoMTzF4L"
      }
    },
    {
      "cell_type": "code",
      "source": [
        "class Model(nn.Module):\n",
        "\n",
        "  def __init__(self):\n",
        "    super().__init__()\n",
        "    self.fc1 = nn.Linear(784,512)\n",
        "    self.batch_norm1 = nn.BatchNorm1d(512)\n",
        "    self.relu1 = nn.ReLU()\n",
        "    self.dropout_1 = nn.Dropout(p = 0.2)\n",
        "    self.fc2 = nn.Linear(512,512)\n",
        "    self.batch_norm2 = nn.BatchNorm1d(512)\n",
        "    self.relu2 = nn.ReLU()\n",
        "    self.dropout_2 = nn.Dropout(p = 0.2)\n",
        "    self.fc3 = nn.Linear(512,10)\n",
        "\n",
        "  def forward(self,x):\n",
        "    x = self.dropout_1(self.relu1(self.batch_norm1(self.fc1(x))))\n",
        "    x = self.dropout_2(self.relu2(self.batch_norm2(self.fc2(x))))\n",
        "    x = self.fc3(x)\n",
        "    return x"
      ],
      "metadata": {
        "id": "82_Ft-EA1CX4"
      },
      "execution_count": null,
      "outputs": []
    },
    {
      "cell_type": "code",
      "source": [
        "model = Model().to(device)"
      ],
      "metadata": {
        "id": "WRBe5k8SA-KR"
      },
      "execution_count": null,
      "outputs": []
    },
    {
      "cell_type": "code",
      "source": [
        "loss_func = nn.CrossEntropyLoss()\n",
        "optimizer = torch.optim.Adam(model.parameters() , lr = 0.001)\n",
        "epochs = 100\n",
        "best_loss = 1e9\n",
        "patience = 5"
      ],
      "metadata": {
        "id": "675v548kAu7E"
      },
      "execution_count": null,
      "outputs": []
    },
    {
      "cell_type": "code",
      "source": [
        "a = torch.tensor(5)"
      ],
      "metadata": {
        "id": "xfNSVjjVZCd0"
      },
      "execution_count": null,
      "outputs": []
    },
    {
      "cell_type": "code",
      "source": [
        "a.item()"
      ],
      "metadata": {
        "id": "hp1yQKHSZFGa",
        "outputId": "d0eefa1d-4427-4cbd-8da5-8db6e3578274",
        "colab": {
          "base_uri": "https://localhost:8080/"
        }
      },
      "execution_count": null,
      "outputs": [
        {
          "output_type": "execute_result",
          "data": {
            "text/plain": [
              "5"
            ]
          },
          "metadata": {},
          "execution_count": 48
        }
      ]
    },
    {
      "cell_type": "code",
      "source": [
        "for epoch in range(epochs):\n",
        "\n",
        "  # Training\n",
        "  model.train()\n",
        "  train_loss = 0\n",
        "  train_count = 0\n",
        "  train_pred = 0\n",
        "  for data,label in train_dataloader:\n",
        "    data,label = data.to(device),label.to(device)\n",
        "    pred = model(data)\n",
        "    loss = loss_func(pred,label)\n",
        "    optimizer.zero_grad()\n",
        "    loss.backward()\n",
        "    optimizer.step()\n",
        "    train_loss += loss.item()\n",
        "    train_pred += (pred.argmax(1) == label).sum().type(torch.float).item()\n",
        "    train_count += 1\n",
        "\n",
        "  train_loss = train_loss / train_count\n",
        "\n",
        "\n",
        "  # Validation\n",
        "  with torch.no_grad():\n",
        "    model.eval()\n",
        "    val_loss = 0\n",
        "    val_count = 0\n",
        "    val_pred = 0\n",
        "    for data,label in val_dataloader:\n",
        "      data,label = data.to(device),label.to(device)\n",
        "      pred = model(data)\n",
        "      loss = loss_func(pred,label)\n",
        "      val_pred += (pred.argmax(1) == label).sum().type(torch.float).item()\n",
        "      val_count += len(label)\n",
        "      val_loss += loss.item()\n",
        "\n",
        "    val_loss = val_loss / val_count\n",
        "\n",
        "\n",
        "    if val_loss < best_loss:\n",
        "        count = 0\n",
        "        best_loss = val_loss\n",
        "        checkpoint = {\n",
        "            'epoch': epoch + 1,\n",
        "            'model_state_dict': model.state_dict(),\n",
        "            'optimizer_state_dict': optimizer.state_dict(),\n",
        "            'loss': best_loss,\n",
        "        }\n",
        "        torch.save(checkpoint, f\"Model checkpoint: {epoch+1}\")\n",
        "    else:\n",
        "        count += 1\n",
        "    if count == patience:\n",
        "        print(\"Early Stopping !!!\")\n",
        "        break\n",
        "\n",
        "    if epoch%10 == 0:\n",
        "      print(f\"{epoch+1}: train_loss = {train_loss:.7f} | val_loss = {val_loss:.7f} \" )\n"
      ],
      "metadata": {
        "colab": {
          "base_uri": "https://localhost:8080/"
        },
        "id": "QlLvxhoSBIqw",
        "outputId": "daae2986-7c2d-4e61-d45e-af6a4ebc1a32"
      },
      "execution_count": null,
      "outputs": [
        {
          "metadata": {
            "tags": null
          },
          "name": "stdout",
          "output_type": "stream",
          "text": [
            "1: train_loss = 0.0023837 | val_loss = 0.0017882 \n",
            "11: train_loss = 0.0020071 | val_loss = 0.0019583 \n",
            "21: train_loss = 0.0023042 | val_loss = 0.0019728 \n",
            "31: train_loss = 0.0041825 | val_loss = 0.0020519 \n",
            "41: train_loss = 0.0021557 | val_loss = 0.0020214 \n",
            "51: train_loss = 0.0015617 | val_loss = 0.0021539 \n",
            "61: train_loss = 0.0025391 | val_loss = 0.0020521 \n",
            "71: train_loss = 0.0014829 | val_loss = 0.0019417 \n",
            "81: train_loss = 0.0031226 | val_loss = 0.0018725 \n",
            "91: train_loss = 0.0013291 | val_loss = 0.0019809 \n"
          ]
        }
      ]
    },
    {
      "cell_type": "code",
      "source": [],
      "metadata": {
        "id": "hUzpWkKMZBfd"
      },
      "execution_count": null,
      "outputs": []
    },
    {
      "cell_type": "markdown",
      "source": [
        "## Model Testing"
      ],
      "metadata": {
        "id": "ULCHoYnZe_vq"
      }
    },
    {
      "cell_type": "code",
      "source": [
        "# Load the saved model checkpoint\n",
        "checkpoint_path = 'path_to_your_saved_checkpoint.pth'\n",
        "checkpoint = torch.load(checkpoint_path)\n",
        "\n",
        "# Assuming model and optimizer are defined elsewhere in your code\n",
        "model.load_state_dict(checkpoint['model_state_dict'])\n",
        "\n",
        "# Put model in evaluation mode\n",
        "model.eval()\n",
        "\n",
        "# Load your test dataset\n",
        "# Assuming test_dataloader is defined elsewhere in your code and loaded with test data\n",
        "test_dataloader = test_dataloader\n",
        "\n",
        "# Initialize variables to monitor test performance\n",
        "test_loss = 0\n",
        "correct = 0\n",
        "\n",
        "# No gradient updates needed for testing\n",
        "with torch.no_grad():\n",
        "    for data, label in test_dataloader:\n",
        "        data, label = data.to(device), label.to(device)\n",
        "        pred = model(data)\n",
        "        loss = loss_func(pred, label)\n",
        "        test_loss += loss.item()\n",
        "        correct += (pred.argmax(1) == label).sum().item()\n",
        "\n",
        "# Calculate average loss and accuracy over the test set\n",
        "test_loss /= len(test_dataloader.dataset)\n",
        "test_accuracy = 100. * correct / len(test_dataloader.dataset)\n",
        "\n",
        "print(f'Test Loss: {test_loss:.4f}, Test Accuracy: {test_accuracy:.2f}%')\n"
      ],
      "metadata": {
        "id": "T_-OSQGGe1gA"
      },
      "execution_count": null,
      "outputs": []
    },
    {
      "cell_type": "code",
      "source": [
        "# init.xavier_uniform_(layer1.weight)\n",
        "# def reinitialize_model(model):\n",
        "#     for layer in model.modules():\n",
        "#         if isinstance(layer, nn.Conv2d) or isinstance(layer, nn.Linear):\n",
        "#             # Reinitialize weights using an init function\n",
        "#             init.sparse_(layer.weight,sparsity = 0.1,std=0.01)\n",
        "\n",
        "#             # Reinitialize biases to zero (if biases exist)\n",
        "#             if layer.bias is not None:\n",
        "#                 init.zeros_(layer.bias)\n",
        "\n",
        "# # Apply the function to your model\n",
        "\n",
        "# reinitialize_model(model)"
      ],
      "metadata": {
        "id": "VxSS_FKznvYP"
      },
      "execution_count": null,
      "outputs": []
    }
  ]
}